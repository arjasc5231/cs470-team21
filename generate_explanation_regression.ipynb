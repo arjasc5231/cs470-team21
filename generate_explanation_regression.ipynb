{
  "cells": [
    {
      "cell_type": "code",
      "execution_count": null,
      "metadata": {
        "id": "0ezQk-gEXkeq"
      },
      "outputs": [],
      "source": [
        "# drive mount. colab에 내 구글 드라이브 연결\n",
        "from google.colab import drive\n",
        "drive.mount('/content/drive')\n",
        "\n",
        "# clone git repo\n",
        "!git clone https://github.com/hila-chefer/Transformer-Explainability.git\n",
        "\n",
        "# change directory\n",
        "import os\n",
        "os.chdir(f'./Transformer-Explainability')\n",
        "\n",
        "\n",
        "#!pip install torch==1.7.0 torchvision==0.8.1 &> /dev/null # 일반 GPU/CPU를 사용하는 경우\n",
        "!pip install torch==1.7.0+cu110 torchvision==0.8.1+cu110 torchaudio==0.7.0 -f https://download.pytorch.org/whl/torch_stable.html  # GPU A100을 사용하는 경우\n",
        "!pip install transformers==3.5.1 &> /dev/null\n",
        "!pip install captum &> /dev/null\n",
        "!pip install matplotlib==3.2.2 &> /dev/null"
      ]
    },
    {
      "cell_type": "code",
      "execution_count": null,
      "metadata": {
        "id": "ktiQyRgAXx4A"
      },
      "outputs": [],
      "source": [
        "##### 시각화 관련 필수 라이브러리\n",
        "import torch\n",
        "\n",
        "from transformers import BertTokenizer\n",
        "from transformers import AutoTokenizer  # bert 모델에 따라 알맞은 tokenizer를 자동으로 로드\n",
        "\n",
        "from BERT_explainability.modules.BERT.ExplanationGenerator import Generator\n",
        "from BERT_explainability.modules.BERT.BertForSequenceClassification import BertForSequenceClassification\n",
        "from BERT_explainability.modules.BERT.BERT_cls_lrp import BertForSequenceClassification as BertForClsOrigLrp\n",
        "\n",
        "from captum.attr import visualization # XAI관련 라이브러리의 시각화 함수\n",
        "#####\n",
        "\n",
        "\n",
        "from torch.utils.data import TensorDataset, random_split\n",
        "from torch.utils.data import DataLoader, RandomSampler, SequentialSampler\n",
        "from transformers import get_linear_schedule_with_warmup\n",
        "\n",
        "from sklearn.metrics import accuracy_score\n",
        "\n",
        "import os\n",
        "import json\n",
        "import pickle\n",
        "import numpy as np\n",
        "import random\n",
        "import gzip\n",
        "from collections import OrderedDict"
      ]
    },
    {
      "cell_type": "code",
      "execution_count": null,
      "metadata": {
        "id": "CWlcH8OzX3nm"
      },
      "outputs": [],
      "source": [
        "# GPU 찾기. 없으면 CPU로 동작\n",
        "if torch.cuda.is_available():  \n",
        "    device = torch.device(\"cuda\")\n",
        "    print('There are %d GPU(s) available.' % torch.cuda.device_count())\n",
        "    print('We will use the GPU:', torch.cuda.get_device_name(0))\n",
        "else:\n",
        "    print('No GPU available, using the CPU instead.')\n",
        "    device = torch.device(\"cpu\")\n",
        "\n",
        "# check torch is available\n",
        "print(torch.__version__)\n",
        "print(torch.tensor([1.0, 2.0]).cuda())"
      ]
    },
    {
      "cell_type": "code",
      "execution_count": null,
      "metadata": {
        "id": "eIhcrKzOYZiL"
      },
      "outputs": [],
      "source": [
        "\"\"\"\n",
        "preprocess한 데이터의 설명을 생성\n",
        "\"\"\"\n",
        "def generate_expl_from_preprocessed(pos_model_name, neg_model_name, data_name='amazon_book_only500000.npy', data_num=10, expl_method=\"transformer_attribution\", saving_tag=''):\n",
        "  root = \"/content/drive/MyDrive/CS470_team_2in1\"\n",
        "\n",
        "  input_ids, attention_masks, ratings, products = np.load(root+\"/dataset/\"+data_name, allow_pickle=True)\n",
        "\n",
        "  if expl_method==\"transformer_attribution\" :\n",
        "    pos_model = BertForSequenceClassification.from_pretrained('bert-base-uncased', num_labels=1)\n",
        "    neg_model = BertForSequenceClassification.from_pretrained('bert-base-uncased', num_labels=1)\n",
        "  else:\n",
        "    pos_model = BertForClsOrigLrp.from_pretrained('bert-base-uncased', num_labels=1)\n",
        "    neg_model = BertForClsOrigLrp.from_pretrained('bert-base-uncased', num_labels=1)\n",
        "  pos_model.cuda()\n",
        "  neg_model.cuda()\n",
        "  pos_model.load_state_dict(torch.load(root+'/colab/model/'+pos_model_name, map_location=device))\n",
        "  neg_model.load_state_dict(torch.load(root+'/colab/model/'+neg_model_name, map_location=device))\n",
        "  pos_model.eval()\n",
        "  neg_model.eval()\n",
        "\n",
        "  tokenizer = BertTokenizer.from_pretrained('bert-base-uncased', do_lower_case=True)\n",
        "\n",
        "  pos_expl_generator = Generator(pos_model)\n",
        "  neg_expl_generator = Generator(neg_model)\n",
        "  if expl_method==\"transformer_attribution\" : pos_expl_func = pos_expl_generator.generate_LRP\n",
        "  else: pos_expl_func = {\"partial_lrp\": pos_expl_generator.generate_LRP_last_layer,\n",
        "                        \"last_attn\": pos_expl_generator.generate_attn_last_layer,\n",
        "                        \"attn_gradcam\": pos_expl_generator.generate_attn_gradcam,\n",
        "                        \"lrp\": pos_expl_generator.generate_full_lrp,\n",
        "                        \"rollout\": pos_expl_generator.generate_rollout}[expl_method]\n",
        "  if expl_method==\"transformer_attribution\" : neg_expl_func = neg_expl_generator.generate_LRP\n",
        "  else: neg_expl_func = {\"partial_lrp\": neg_expl_generator.generate_LRP_last_layer,\n",
        "                        \"last_attn\": neg_expl_generator.generate_attn_last_layer,\n",
        "                        \"attn_gradcam\": neg_expl_generator.generate_attn_gradcam,\n",
        "                        \"lrp\": neg_expl_generator.generate_full_lrp,\n",
        "                        \"rollout\": neg_expl_generator.generate_rollout}[expl_method]\n",
        "  \n",
        "  records = []\n",
        "  target_class=None\n",
        "\n",
        "  for i in range(data_num):\n",
        "    tmp = input_ids[i][0].numpy()\n",
        "    pad_idx = np.where(tmp==0)[0]\n",
        "    if len(pad_idx)>0:\n",
        "      last_idx =  pad_idx[0]\n",
        "      input_id = input_ids[i][:,:last_idx].to(device)\n",
        "      attention_mask = attention_masks[i][:,:last_idx].to(device)\n",
        "    else:\n",
        "      input_id = input_ids[i].to(device)\n",
        "      attention_mask = attention_masks[i].to(device)\n",
        "    rating = ratings[i]\n",
        "    product = products[i]\n",
        "    tokens = tokenizer.convert_ids_to_tokens(input_id.flatten())\n",
        "\n",
        "\n",
        "    # 문장에 대한 설명 생성\n",
        "    pos_output = pos_model(input_ids=input_id, attention_mask=attention_mask)[0].detach().cpu().numpy()\n",
        "    neg_output = neg_model(input_ids=input_id, attention_mask=attention_mask)[0].detach().cpu().numpy()\n",
        "\n",
        "    # 설명 생성\n",
        "    neg_expl = neg_expl_func(input_ids=input_id, attention_mask=attention_mask, index=0)[0].detach().cpu().numpy()\n",
        "    pos_expl = pos_expl_func(input_ids=input_id, attention_mask=attention_mask, index=0)[0].detach().cpu().numpy()\n",
        "\n",
        "    # true label 판단\n",
        "    true_class = rating\n",
        "\n",
        "    records.append([tokens, rating, product, np.array([[neg_output[0][0],pos_output[0][0]]]), neg_expl, pos_expl, true_class, 1 if pos_output[0]>=3 else 0])\n",
        "\n",
        "    if i%1000==0: print(f\"processed {i} data...\")\n",
        "\n",
        "  if saving_tag!='': saving_tag='-'+saving_tag\n",
        "  np.save(root+\"/colab/explanation/\"+\"amazon_book_expl-\"+expl_method+saving_tag+\".npy\", records)\n",
        "\n",
        "  #visualize_expl(records,10)\n",
        "\n",
        "\n",
        "# interpret_all_sentences의 출력 또는 그 출력을 저장한 파일경로로부터 설명 생성.\n",
        "def visualize_expl(records, visualization_num, normalize=True):\n",
        "  # record가 파일 경로일 경우 불러오기\n",
        "  if isinstance(records, str): records = np.load(records, allow_pickle=True)\n",
        "\n",
        "  vis_datas = []\n",
        "  for i in range(visualization_num):\n",
        "    tokens, rating, product, output, neg_expl, pos_expl, true_class, pred_class = records[i]\n",
        "    if normalize :\n",
        "      #pos_expl = (pos_expl - pos_expl.min()) / (pos_expl.max() - pos_expl.min())\n",
        "      #neg_expl = (neg_expl - neg_expl.min()) / (neg_expl.max() - neg_expl.min())\n",
        "      pos_expl /= np.linalg.norm(pos_expl)\n",
        "      neg_expl /= np.linalg.norm(neg_expl)\n",
        "      neg_expl *= output[0][0]\n",
        "      pos_expl *= output[0][1]\n",
        "    neg_expl *= -1  # negative일 경우 빨간색으로 visualize하기 위해.\n",
        "\n",
        "    # visualization 객체 생성해서 추가\n",
        "    vis_datas.append(visualization.VisualizationDataRecord(\n",
        "                                  pos_expl,\n",
        "                                  output[0][pred_class],\n",
        "                                  pred_class,\n",
        "                                  true_class,\n",
        "                                  1,\n",
        "                                  pos_expl.sum(),       \n",
        "                                  tokens,\n",
        "                                  1))\n",
        "    vis_datas.append(visualization.VisualizationDataRecord(\n",
        "                                  neg_expl,\n",
        "                                  output[0][pred_class],\n",
        "                                  pred_class,\n",
        "                                  true_class,\n",
        "                                  0,\n",
        "                                  neg_expl.sum(),       \n",
        "                                  tokens,\n",
        "                                  1))\n",
        "  \n",
        "  # visualize\n",
        "  visualization.visualize_text(vis_datas)"
      ]
    },
    {
      "cell_type": "code",
      "execution_count": null,
      "metadata": {
        "id": "r4GmoXKA4FRR"
      },
      "outputs": [],
      "source": [
        "generate_expl_from_preprocessed(\"balanced_positive_regression_only1000_testloss121.pt\", \"balanced_negative_regression_only1000_testloss131.pt\", \"amazon_book_test_rev.npy\", 5000, expl_method=\"transformer_attribution\", saving_tag='balanced_regression_only5000_tmp')\n",
        "generate_expl_from_preprocessed(\"balanced_positive_regression_only1000_testloss121.pt\", \"balanced_negative_regression_only1000_testloss131.pt\", \"amazon_book_test_rev.npy\", 5000, expl_method=\"partial_lrp\", saving_tag='balanced_regression_only5000_tmp')\n",
        "generate_expl_from_preprocessed(\"balanced_positive_regression_only1000_testloss121.pt\", \"balanced_negative_regression_only1000_testloss131.pt\", \"amazon_book_test_rev.npy\", 5000, expl_method=\"last_attn\", saving_tag='balanced_regression_only5000_tmp')\n",
        "generate_expl_from_preprocessed(\"balanced_positive_regression_only1000_testloss121.pt\", \"balanced_negative_regression_only1000_testloss131.pt\", \"amazon_book_test_rev.npy\", 5000, expl_method=\"attn_gradcam\", saving_tag='balanced_regression_only5000_tmp')\n",
        "generate_expl_from_preprocessed(\"balanced_positive_regression_only1000_testloss121.pt\", \"balanced_negative_regression_only1000_testloss131.pt\", \"amazon_book_test_rev.npy\", 5000, expl_method=\"lrp\", saving_tag='balanced_regression_only5000_tmp')\n",
        "generate_expl_from_preprocessed(\"balanced_positive_regression_only1000_testloss121.pt\", \"balanced_negative_regression_only1000_testloss131.pt\", \"amazon_book_test_rev.npy\", 5000, expl_method=\"rollout\", saving_tag='balanced_regression_only5000_tmp')"
      ]
    },
    {
      "cell_type": "code",
      "source": [
        "generate_expl_from_preprocessed(\"balanced_positive_regression_only1000_testloss121.pt\", \"balanced_negative_regression_only1000_testloss131.pt\", \"rationale_preprocessed.npy\", 100, expl_method=\"transformer_attribution\", saving_tag='rationale_balanced_regression')"
      ],
      "metadata": {
        "id": "LhGQYcApQQTR"
      },
      "execution_count": null,
      "outputs": []
    },
    {
      "cell_type": "code",
      "execution_count": null,
      "metadata": {
        "id": "s7D0vTel_c9t"
      },
      "outputs": [],
      "source": [
        "records = np.load('/content/drive/MyDrive/CS470_team_2in1/colab/explanation/balanced_only1000model/amazon_book_expl-transformer_attribution-balanced_regression_only5000.npy', allow_pickle=True)\n",
        "visualize_expl(records,100)"
      ]
    }
  ],
  "metadata": {
    "accelerator": "GPU",
    "colab": {
      "machine_shape": "hm",
      "provenance": []
    },
    "gpuClass": "premium",
    "kernelspec": {
      "display_name": "Python 3",
      "name": "python3"
    },
    "language_info": {
      "name": "python"
    }
  },
  "nbformat": 4,
  "nbformat_minor": 0
}