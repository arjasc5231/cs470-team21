{
  "nbformat": 4,
  "nbformat_minor": 0,
  "metadata": {
    "colab": {
      "provenance": [],
      "authorship_tag": "ABX9TyMtEPpEkC5lb8414+MFVuTc",
      "include_colab_link": true
    },
    "kernelspec": {
      "name": "python3",
      "display_name": "Python 3"
    },
    "language_info": {
      "name": "python"
    }
  },
  "cells": [
    {
      "cell_type": "markdown",
      "metadata": {
        "id": "view-in-github",
        "colab_type": "text"
      },
      "source": [
        "<a href=\"https://colab.research.google.com/github/arjasc5231/cs470-team21/blob/main/IOU_AUPRC.ipynb\" target=\"_parent\"><img src=\"https://colab.research.google.com/assets/colab-badge.svg\" alt=\"Open In Colab\"/></a>"
      ]
    },
    {
      "cell_type": "code",
      "source": [
        "from google.colab import drive\n",
        "drive.mount('/content/drive')"
      ],
      "metadata": {
        "colab": {
          "base_uri": "https://localhost:8080/"
        },
        "id": "uK_6_MaOJcSK",
        "outputId": "ee56a470-fc46-4a64-870d-e280e2f4dfb9"
      },
      "execution_count": null,
      "outputs": [
        {
          "output_type": "stream",
          "name": "stdout",
          "text": [
            "Mounted at /content/drive\n"
          ]
        }
      ]
    },
    {
      "cell_type": "code",
      "execution_count": null,
      "metadata": {
        "id": "9PsLyWPlH3ki"
      },
      "outputs": [],
      "source": [
        "import csv\n",
        "import numpy as np\n",
        "import pandas as pd\n",
        "\n",
        "rationale_csv = pd.read_csv(\"/content/drive/MyDrive/CS470_team_2in1/dataset/preprocessed_balanced_encoded.csv\")"
      ]
    },
    {
      "cell_type": "code",
      "source": [
        "positive_rationale = np.array(rationale_csv[\"positive rationale encoded\"])\n",
        "negative_rationale = np.array(rationale_csv[\"negative rationale encoded\"])"
      ],
      "metadata": {
        "id": "DPBSd5oMLSP_"
      },
      "execution_count": null,
      "outputs": []
    },
    {
      "cell_type": "code",
      "source": [
        "print(positive_rationale[43])\n",
        "print(negative_rationale[43])"
      ],
      "metadata": {
        "colab": {
          "base_uri": "https://localhost:8080/"
        },
        "id": "5qE-gXyEAeNG",
        "outputId": "d0f4d268-d5b8-4c49-b8d1-7245188ae973"
      },
      "execution_count": null,
      "outputs": [
        {
          "output_type": "stream",
          "name": "stdout",
          "text": [
            "[0, 1, 1, 0, 0, 0, 0, 0, 0, 0, 0, 0, 0, 0, 0, 0, 0, 0, 0, 0, 0, 0, 0, 0, 0, 1, 1, 0, 0, 0, 0, 0, 0, 0, 0, 0, 0]\n",
            "[0, 0, 0, 0, 0, 0, 0, 0, 1, 0, 0, 0, 0, 0, 0, 0, 0, 0, 0, 0, 0, 0, 0, 0, 0, 0, 0, 0, 0, 0, 0, 0, 0, 0, 0, 0, 0]\n"
          ]
        }
      ]
    },
    {
      "cell_type": "code",
      "source": [
        "# change string to list with value 0 or 1\n",
        "for i in range(len(positive_rationale)):\n",
        "    positive_rationale[i] = np.array(positive_rationale[i].replace(\" \", \"\").replace('[', \"\").replace(']', \"\").split(','))\n",
        "    negative_rationale[i] = np.array(negative_rationale[i].replace(\" \", \"\").replace('[', \"\").replace(']', \"\").split(','))\n",
        "    if len(positive_rationale[i]) != len(negative_rationale[i]):\n",
        "        print(i)"
      ],
      "metadata": {
        "id": "_J2DUp5FQGoW"
      },
      "execution_count": null,
      "outputs": []
    },
    {
      "cell_type": "code",
      "source": [
        "def IOU(human_rationale, model_rationale): \n",
        "    '''\n",
        "    Calculate Intersection over Union\n",
        "\n",
        "    Parameters\n",
        "    -------------------------------------------\n",
        "    human_rationale: numpy array\n",
        "        contains true rationale (human checks)\n",
        "    model_rationale: numpy array\n",
        "        contains predicted rationale (model checks)\n",
        "\n",
        "    Returns\n",
        "    -------------------------------------------\n",
        "    accuracy: float\n",
        "        IOU percentage\n",
        "    '''\n",
        "    intersec, union = 0, 0\n",
        "    for i in range(len(human_rationale)):\n",
        "        human = np.array(human_rationale[i]).astype(np.int32)\n",
        "        model = np.array(model_rationale[i]).astype(np.int32)\n",
        "\n",
        "        # print(f\"[{i}] human: {human.shape}, model: {model.shape}\")\n",
        "\n",
        "        assert human.shape == model.shape\n",
        "\n",
        "        for j in range(len(human)):\n",
        "            intersec += human[j] & model[j] \n",
        "            union += human[j] | model[j]\n",
        "\n",
        "    return intersec / union"
      ],
      "metadata": {
        "id": "ix3t3EOmL23g"
      },
      "execution_count": null,
      "outputs": []
    },
    {
      "cell_type": "code",
      "source": [
        "# IOU Example\n",
        "h = np.array([[0,1,1,1], [0,1,1], [0,0,0], [1,0,0,0,1]])\n",
        "m = np.array([[0,0,1,0], [1,1,1], [0,1,0], [1,1,0,0,1]])\n",
        "print(IOU(h,m))\n",
        "print(IOU(positive_rationale, negative_rationale))"
      ],
      "metadata": {
        "colab": {
          "base_uri": "https://localhost:8080/"
        },
        "id": "CMlM3hkyPGaS",
        "outputId": "ecb5862f-1350-4092-e92f-48bd179411d3"
      },
      "execution_count": null,
      "outputs": [
        {
          "output_type": "stream",
          "name": "stdout",
          "text": [
            "0.5\n",
            "0.0\n"
          ]
        },
        {
          "output_type": "stream",
          "name": "stderr",
          "text": [
            "/usr/local/lib/python3.7/dist-packages/ipykernel_launcher.py:2: VisibleDeprecationWarning: Creating an ndarray from ragged nested sequences (which is a list-or-tuple of lists-or-tuples-or ndarrays with different lengths or shapes) is deprecated. If you meant to do this, you must specify 'dtype=object' when creating the ndarray.\n",
            "  \n",
            "/usr/local/lib/python3.7/dist-packages/ipykernel_launcher.py:3: VisibleDeprecationWarning: Creating an ndarray from ragged nested sequences (which is a list-or-tuple of lists-or-tuples-or ndarrays with different lengths or shapes) is deprecated. If you meant to do this, you must specify 'dtype=object' when creating the ndarray.\n",
            "  This is separate from the ipykernel package so we can avoid doing imports until\n"
          ]
        }
      ]
    },
    {
      "cell_type": "code",
      "source": [
        "def set_rationale(relevance_score, threshold):\n",
        "\n",
        "    rationales = []\n",
        "    for score in relevance_score:\n",
        "        # normalize to 0~1\n",
        "        score = (score - score.min()) / (score.max() - score.min())\n",
        "        \n",
        "        rationale = np.where(score > threshold, 1, 0)\n",
        "        rationales.append(rationale)\n",
        "\n",
        "    return rationales"
      ],
      "metadata": {
        "id": "2ojV8hytAKsP"
      },
      "execution_count": null,
      "outputs": []
    },
    {
      "cell_type": "code",
      "source": [
        "# from nltk.corpus import words\n",
        "def erase_trivial_words(records):\n",
        "    tokens = ['[CLS]', '[SEP]', '[MASK]', '[UNK]', '[PAD]']\n",
        "    trivial = ['.', ',', 'a', 'an', 'the', 'is', 'are', 'they', 'this', 'I', ':', 'he', 'she', 'and', \n",
        "               'it', 'we', 'his', '(', ')', 'to', 'was', 'were', 'his', 'her', 'as', 'into', 'for', \n",
        "               'here', 'by', ';', 'there', 'on', 'in', '\"', 'book', 'books', 'children', 'read', 'children', \n",
        "               'kids', 'these', 'will', 'one', 'you', '?', 'that', 'them', 'of', \"'\", 's', 'with', 'have',\n",
        "               '-', 'be', 'all', 'if', 'at', 'by', 'when', 'reading', '1', '2', '3', '4', '5', '6', '7', '8', '9', '0']\n",
        "\n",
        "    for record in records:\n",
        "        for i in range(len(record[0])):\n",
        "            if record[0][i] in tokens or record[0][i] in trivial:\n",
        "                record[4][i] = 0\n",
        "                record[5][i] = 0\n",
        "    \n",
        "    return records"
      ],
      "metadata": {
        "id": "Ul5e3FXjDrT5"
      },
      "execution_count": null,
      "outputs": []
    },
    {
      "cell_type": "code",
      "source": [
        "model_records = np.load(\"/content/drive/MyDrive/CS470_team_2in1/colab/explanation/amazon_book_expl-transformer_attribution-rationale_binaryclassification.npy\", allow_pickle=True)\n",
        "model_records = erase_trivial_words(model_records)\n",
        "binary_pos_iou, binary_neg_iou = [], []\n",
        "for i in range(20):\n",
        "    model_pos_rationale = set_rationale(model_records[:,5], threshold=i/20)\n",
        "    model_neg_rationale = set_rationale(model_records[:,4], threshold=i/20)\n",
        "\n",
        "    print(f\"[threshold = {i/20}] positive IOU: {IOU(positive_rationale, model_pos_rationale)}, negative IOU: {IOU(negative_rationale, model_neg_rationale)}\")\n",
        "    binary_pos_iou.append(IOU(positive_rationale, model_pos_rationale))\n",
        "    binary_neg_iou.append(IOU(negative_rationale, model_neg_rationale))\n",
        "\n",
        "# print(model_pos_rationale.shape, model_neg_rationale.shape)"
      ],
      "metadata": {
        "colab": {
          "base_uri": "https://localhost:8080/"
        },
        "id": "77PCvC-S-Zqj",
        "outputId": "8ef2a229-12e4-4ac3-ab2b-e7d60084ef81"
      },
      "execution_count": null,
      "outputs": [
        {
          "output_type": "stream",
          "name": "stdout",
          "text": [
            "[threshold = 0.0] positive IOU: 0.07836907598623245, negative IOU: 0.10555555555555556\n",
            "[threshold = 0.05] positive IOU: 0.12105535437144335, negative IOU: 0.15441176470588236\n",
            "[threshold = 0.1] positive IOU: 0.13676975945017184, negative IOU: 0.17591499409681227\n",
            "[threshold = 0.15] positive IOU: 0.14913793103448275, negative IOU: 0.18526315789473685\n",
            "[threshold = 0.2] positive IOU: 0.16, negative IOU: 0.18724778046811946\n",
            "[threshold = 0.25] positive IOU: 0.16783216783216784, negative IOU: 0.19038817005545286\n",
            "[threshold = 0.3] positive IOU: 0.16601815823605706, negative IOU: 0.19012605042016806\n",
            "[threshold = 0.35] positive IOU: 0.17276720351390923, negative IOU: 0.18430034129692832\n",
            "[threshold = 0.4] positive IOU: 0.16957210776545167, negative IOU: 0.17380660954712362\n",
            "[threshold = 0.45] positive IOU: 0.17504332755632582, negative IOU: 0.16356382978723405\n",
            "[threshold = 0.5] positive IOU: 0.16883116883116883, negative IOU: 0.15329512893982808\n",
            "[threshold = 0.55] positive IOU: 0.16205533596837945, negative IOU: 0.1465648854961832\n",
            "[threshold = 0.6] positive IOU: 0.1524008350730689, negative IOU: 0.13636363636363635\n",
            "[threshold = 0.65] positive IOU: 0.15164835164835164, negative IOU: 0.12837837837837837\n",
            "[threshold = 0.7] positive IOU: 0.14578587699316628, negative IOU: 0.125\n",
            "[threshold = 0.75] positive IOU: 0.12470588235294118, negative IOU: 0.11030741410488246\n",
            "[threshold = 0.8] positive IOU: 0.12745098039215685, negative IOU: 0.10093457943925234\n",
            "[threshold = 0.85] positive IOU: 0.11528822055137844, negative IOU: 0.08952380952380952\n",
            "[threshold = 0.9] positive IOU: 0.1056701030927835, negative IOU: 0.07766990291262135\n",
            "[threshold = 0.95] positive IOU: 0.10526315789473684, negative IOU: 0.07114624505928854\n"
          ]
        }
      ]
    },
    {
      "cell_type": "code",
      "source": [
        "model_records = np.load(\"/content/drive/MyDrive/CS470_team_2in1/colab/explanation/amazon_book_expl-transformer_attribution-rationale_regression.npy\", allow_pickle=True)\n",
        "model_records = erase_trivial_words(model_records)\n",
        "\n",
        "regression_pos_iou, regression_neg_iou = [], []\n",
        "\n",
        "for i in range(20):\n",
        "    model_pos_rationale = set_rationale(model_records[:,5], threshold=i/20)\n",
        "    model_neg_rationale = set_rationale(model_records[:,4], threshold=i/20)\n",
        "\n",
        "    print(f\"[threshold = {i/20}] positive IOU: {IOU(positive_rationale, model_pos_rationale)}, negative IOU: {IOU(negative_rationale, model_neg_rationale)}\")\n",
        "\n",
        "    regression_pos_iou.append(IOU(positive_rationale, model_pos_rationale))\n",
        "    regression_neg_iou.append(IOU(negative_rationale, model_neg_rationale))"
      ],
      "metadata": {
        "colab": {
          "base_uri": "https://localhost:8080/"
        },
        "id": "SmZ1kNSFCgCt",
        "outputId": "41b63062-69f6-4ee1-cc09-cdd6ace77c28"
      },
      "execution_count": null,
      "outputs": [
        {
          "output_type": "stream",
          "name": "stdout",
          "text": [
            "[threshold = 0.0] positive IOU: 0.07834833245103229, negative IOU: 0.1051937780121276\n",
            "[threshold = 0.05] positive IOU: 0.08274440518256773, negative IOU: 0.1801661474558671\n",
            "[threshold = 0.1] positive IOU: 0.0881010881010881, negative IOU: 0.21205821205821207\n",
            "[threshold = 0.15] positive IOU: 0.09193480986209779, negative IOU: 0.23070469798657717\n",
            "[threshold = 0.2] positive IOU: 0.09444171175602557, negative IOU: 0.22678396871945258\n",
            "[threshold = 0.25] positive IOU: 0.09919724770642202, negative IOU: 0.2335195530726257\n",
            "[threshold = 0.3] positive IOU: 0.09993337774816789, negative IOU: 0.23193916349809887\n",
            "[threshold = 0.35] positive IOU: 0.1007137192704203, negative IOU: 0.22465753424657534\n",
            "[threshold = 0.4] positive IOU: 0.09515096065873742, negative IOU: 0.21961932650073207\n",
            "[threshold = 0.45] positive IOU: 0.08802456499488229, negative IOU: 0.19937694704049844\n",
            "[threshold = 0.5] positive IOU: 0.08041958041958042, negative IOU: 0.18566775244299674\n",
            "[threshold = 0.55] positive IOU: 0.08125819134993446, negative IOU: 0.17869415807560138\n",
            "[threshold = 0.6] positive IOU: 0.07964601769911504, negative IOU: 0.16460176991150444\n",
            "[threshold = 0.65] positive IOU: 0.076158940397351, negative IOU: 0.15579710144927536\n",
            "[threshold = 0.7] positive IOU: 0.07387387387387387, negative IOU: 0.1490566037735849\n",
            "[threshold = 0.75] positive IOU: 0.06809338521400778, negative IOU: 0.12310606060606061\n",
            "[threshold = 0.8] positive IOU: 0.06584362139917696, negative IOU: 0.11218568665377177\n",
            "[threshold = 0.85] positive IOU: 0.05506607929515418, negative IOU: 0.10474308300395258\n",
            "[threshold = 0.9] positive IOU: 0.0539906103286385, negative IOU: 0.09362549800796813\n",
            "[threshold = 0.95] positive IOU: 0.0488997555012225, negative IOU: 0.08502024291497975\n"
          ]
        }
      ]
    },
    {
      "cell_type": "code",
      "source": [
        "model_records = np.load(\"/content/drive/MyDrive/CS470_team_2in1/colab/explanation/amazon_book_expl-transformer_attribution-rationale_binaryclassification_notrain.npy\", allow_pickle=True)\n",
        "model_records = erase_trivial_words(model_records)\n",
        "\n",
        "notrained_pos_iou, notrained_neg_iou = [], []\n",
        "\n",
        "for i in range(20):\n",
        "    model_pos_rationale = set_rationale(model_records[:,5], threshold=i/20)\n",
        "    model_neg_rationale = set_rationale(model_records[:,4], threshold=i/20)\n",
        "\n",
        "    print(f\"[threshold = {i/20}] positive IOU: {IOU(positive_rationale, model_pos_rationale)}, negative IOU: {IOU(negative_rationale, model_neg_rationale)}\")\n",
        "\n",
        "    notrained_pos_iou.append(IOU(positive_rationale, model_pos_rationale))\n",
        "    notrained_neg_iou.append(IOU(negative_rationale, model_neg_rationale))"
      ],
      "metadata": {
        "colab": {
          "base_uri": "https://localhost:8080/"
        },
        "id": "RCW6tt9dcF9j",
        "outputId": "aba67ef0-73aa-4d56-908c-f744fe86b3f4"
      },
      "execution_count": null,
      "outputs": [
        {
          "output_type": "stream",
          "name": "stdout",
          "text": [
            "[threshold = 0.0] positive IOU: 0.07834833245103229, negative IOU: 0.10516605166051661\n",
            "[threshold = 0.05] positive IOU: 0.0820280296784831, negative IOU: 0.1019775106630477\n",
            "[threshold = 0.1] positive IOU: 0.07924743443557583, negative IOU: 0.09484536082474226\n",
            "[threshold = 0.15] positive IOU: 0.07675438596491228, negative IOU: 0.09968051118210862\n",
            "[threshold = 0.2] positive IOU: 0.075591985428051, negative IOU: 0.0998452012383901\n",
            "[threshold = 0.25] positive IOU: 0.07180570221752904, negative IOU: 0.09239130434782608\n",
            "[threshold = 0.3] positive IOU: 0.06372549019607843, negative IOU: 0.08274470232088799\n",
            "[threshold = 0.35] positive IOU: 0.06267029972752043, negative IOU: 0.07761529808773904\n",
            "[threshold = 0.4] positive IOU: 0.06042296072507553, negative IOU: 0.07290400972053462\n",
            "[threshold = 0.45] positive IOU: 0.057660626029654036, negative IOU: 0.0609597924773022\n",
            "[threshold = 0.5] positive IOU: 0.053003533568904596, negative IOU: 0.056022408963585436\n",
            "[threshold = 0.55] positive IOU: 0.05056179775280899, negative IOU: 0.050221565731166914\n",
            "[threshold = 0.6] positive IOU: 0.04780876494023904, negative IOU: 0.05023547880690738\n",
            "[threshold = 0.65] positive IOU: 0.04742268041237113, negative IOU: 0.04746317512274959\n",
            "[threshold = 0.7] positive IOU: 0.04319654427645788, negative IOU: 0.04074702886247878\n",
            "[threshold = 0.75] positive IOU: 0.04288939051918736, negative IOU: 0.036585365853658534\n",
            "[threshold = 0.8] positive IOU: 0.03917050691244239, negative IOU: 0.03208556149732621\n",
            "[threshold = 0.85] positive IOU: 0.037914691943127965, negative IOU: 0.03102189781021898\n",
            "[threshold = 0.9] positive IOU: 0.03855421686746988, negative IOU: 0.028089887640449437\n",
            "[threshold = 0.95] positive IOU: 0.03950617283950617, negative IOU: 0.026565464895635674\n"
          ]
        }
      ]
    },
    {
      "cell_type": "code",
      "source": [
        "model_records = np.load(\"/content/drive/MyDrive/CS470_team_2in1/colab/explanation/amazon_book_expl-transformer_attribution-rationale_balanced_binaryclassification.npy\", allow_pickle=True)\n",
        "model_records = erase_trivial_words(model_records)\n",
        "\n",
        "bal_bin_pos_iou, bal_bin_neg_iou = [], []\n",
        "\n",
        "for i in range(20):\n",
        "    model_pos_rationale = set_rationale(model_records[:,5], threshold=i/20)\n",
        "    model_neg_rationale = set_rationale(model_records[:,4], threshold=i/20)\n",
        "\n",
        "    print(f\"[threshold = {i/20}] positive IOU: {IOU(positive_rationale, model_pos_rationale)}, negative IOU: {IOU(negative_rationale, model_neg_rationale)}\")\n",
        "\n",
        "    bal_bin_pos_iou.append(IOU(positive_rationale, model_pos_rationale))\n",
        "    bal_bin_neg_iou.append(IOU(negative_rationale, model_neg_rationale))"
      ],
      "metadata": {
        "colab": {
          "base_uri": "https://localhost:8080/"
        },
        "id": "xSAwoe5MuUCt",
        "outputId": "93a56828-0c7d-490e-a4ad-96fa77afff1e"
      },
      "execution_count": null,
      "outputs": [
        {
          "output_type": "stream",
          "name": "stdout",
          "text": [
            "[threshold = 0.0] positive IOU: 0.07836907598623245, negative IOU: 0.10533262935586062\n",
            "[threshold = 0.05] positive IOU: 0.0650438946528332, negative IOU: 0.12543192812715964\n",
            "[threshold = 0.1] positive IOU: 0.05793319415448852, negative IOU: 0.12941643509329098\n",
            "[threshold = 0.15] positive IOU: 0.04719949653870359, negative IOU: 0.1353211009174312\n",
            "[threshold = 0.2] positive IOU: 0.04126750184229919, negative IOU: 0.13804173354735153\n",
            "[threshold = 0.25] positive IOU: 0.03488372093023256, negative IOU: 0.13885505481120586\n",
            "[threshold = 0.3] positive IOU: 0.031078610603290677, negative IOU: 0.1337448559670782\n",
            "[threshold = 0.35] positive IOU: 0.021463414634146343, negative IOU: 0.13564668769716087\n",
            "[threshold = 0.4] positive IOU: 0.01981230448383733, negative IOU: 0.13192612137203166\n",
            "[threshold = 0.45] positive IOU: 0.020224719101123594, negative IOU: 0.11897738446411013\n",
            "[threshold = 0.5] positive IOU: 0.01775147928994083, negative IOU: 0.10741138560687433\n",
            "[threshold = 0.55] positive IOU: 0.017434620174346202, negative IOU: 0.10440835266821345\n",
            "[threshold = 0.6] positive IOU: 0.017195767195767195, negative IOU: 0.09753086419753086\n",
            "[threshold = 0.65] positive IOU: 0.014144271570014143, negative IOU: 0.09592641261498029\n",
            "[threshold = 0.7] positive IOU: 0.014577259475218658, negative IOU: 0.08391608391608392\n",
            "[threshold = 0.75] positive IOU: 0.012326656394453005, negative IOU: 0.07025411061285501\n",
            "[threshold = 0.8] positive IOU: 0.01340033500837521, negative IOU: 0.06430868167202572\n",
            "[threshold = 0.85] positive IOU: 0.012844036697247707, negative IOU: 0.061224489795918366\n",
            "[threshold = 0.9] positive IOU: 0.012170385395537525, negative IOU: 0.05892857142857143\n",
            "[threshold = 0.95] positive IOU: 0.013333333333333334, negative IOU: 0.052336448598130844\n"
          ]
        }
      ]
    },
    {
      "cell_type": "code",
      "source": [
        "model_records = np.load(\"/content/drive/MyDrive/CS470_team_2in1/colab/explanation/amazon_book_expl-transformer_attribution-rationale_balanced_regression.npy\", allow_pickle=True)\n",
        "model_records = erase_trivial_words(model_records)\n",
        "\n",
        "bal_reg_pos_iou, bal_reg_neg_iou = [], []\n",
        "\n",
        "for i in range(20):\n",
        "    model_pos_rationale = set_rationale(model_records[:,5], threshold=i/20)\n",
        "    model_neg_rationale = set_rationale(model_records[:,4], threshold=i/20)\n",
        "\n",
        "    print(f\"[threshold = {i/20}] positive IOU: {IOU(positive_rationale, model_pos_rationale)}, negative IOU: {IOU(negative_rationale, model_neg_rationale)}\")\n",
        "\n",
        "    bal_reg_pos_iou.append(IOU(positive_rationale, model_pos_rationale))\n",
        "    bal_reg_neg_iou.append(IOU(negative_rationale, model_neg_rationale))"
      ],
      "metadata": {
        "colab": {
          "base_uri": "https://localhost:8080/"
        },
        "id": "IY4wYO1YuxMA",
        "outputId": "a9e56576-9940-41bf-d359-1bf11c4f707b"
      },
      "execution_count": null,
      "outputs": [
        {
          "output_type": "stream",
          "name": "stdout",
          "text": [
            "[threshold = 0.0] positive IOU: 0.0791113519371444, negative IOU: 0.10547184773988898\n",
            "[threshold = 0.05] positive IOU: 0.08132045088566828, negative IOU: 0.14007782101167315\n",
            "[threshold = 0.1] positive IOU: 0.07412653446647781, negative IOU: 0.1525347689546882\n",
            "[threshold = 0.15] positive IOU: 0.07319757842597689, negative IOU: 0.15955845459106874\n",
            "[threshold = 0.2] positive IOU: 0.07716436637390213, negative IOU: 0.17086834733893558\n",
            "[threshold = 0.25] positive IOU: 0.07786589762076424, negative IOU: 0.17926296064959402\n",
            "[threshold = 0.3] positive IOU: 0.07585644371941272, negative IOU: 0.18554551772063932\n",
            "[threshold = 0.35] positive IOU: 0.07, negative IOU: 0.19422776911076442\n",
            "[threshold = 0.4] positive IOU: 0.06339468302658487, negative IOU: 0.202276707530648\n",
            "[threshold = 0.45] positive IOU: 0.06178489702517163, negative IOU: 0.2034548944337812\n",
            "[threshold = 0.5] positive IOU: 0.05813953488372093, negative IOU: 0.20042643923240938\n",
            "[threshold = 0.55] positive IOU: 0.05146036161335188, negative IOU: 0.2\n",
            "[threshold = 0.6] positive IOU: 0.051829268292682924, negative IOU: 0.19321148825065274\n",
            "[threshold = 0.65] positive IOU: 0.04522613065326633, negative IOU: 0.1829608938547486\n",
            "[threshold = 0.7] positive IOU: 0.044802867383512544, negative IOU: 0.16966966966966968\n",
            "[threshold = 0.75] positive IOU: 0.04222648752399232, negative IOU: 0.15064102564102563\n",
            "[threshold = 0.8] positive IOU: 0.03696098562628337, negative IOU: 0.13175675675675674\n",
            "[threshold = 0.85] positive IOU: 0.02857142857142857, negative IOU: 0.12078152753108348\n",
            "[threshold = 0.9] positive IOU: 0.03009259259259259, negative IOU: 0.09622641509433963\n",
            "[threshold = 0.95] positive IOU: 0.024330900243309004, negative IOU: 0.07992202729044834\n"
          ]
        }
      ]
    },
    {
      "cell_type": "code",
      "source": [
        "import matplotlib.pyplot as plt\n",
        "plt.figure(figsize=(12, 4))\n",
        "plt.subplot(1, 2, 1)\n",
        "plt.plot([i*0.05 for i in range(len(binary_pos_iou))], binary_pos_iou, label='binary_pos_iou')\n",
        "plt.plot([i*0.05 for i in range(len(regression_pos_iou))], regression_pos_iou, label='regression_pos_iou')\n",
        "plt.plot([i*0.05 for i in range(len(notrained_pos_iou))], notrained_pos_iou, label='notrained_pos_iou')\n",
        "plt.plot([i*0.05 for i in range(len(bal_bin_pos_iou))], bal_bin_pos_iou, label='bal_bin_pos_iou')\n",
        "plt.plot([i*0.05 for i in range(len(bal_reg_pos_iou))], bal_reg_pos_iou, label='bal_reg_pos_iou')\n",
        "plt.title('IOU for positive rationales')\n",
        "plt.xlabel('threshold for rationale')\n",
        "plt.legend(('binary', 'regression', 'not trained', 'balanced_bin', 'balanced_reg'))\n",
        "# plt.ylabel('comprehensiveness')\n",
        "\n",
        "plt.subplot(1, 2, 2)\n",
        "plt.plot([i*0.05 for i in range(len(binary_neg_iou))], binary_neg_iou, label='binary_neg_iou')\n",
        "plt.plot([i*0.05 for i in range(len(regression_neg_iou))], regression_neg_iou, label='regression_neg_iou')\n",
        "plt.plot([i*0.05 for i in range(len(notrained_neg_iou))], notrained_neg_iou, label='notrained_neg_iou')\n",
        "plt.plot([i*0.05 for i in range(len(bal_bin_neg_iou))], bal_bin_neg_iou, label='bal_bin_neg_iou')\n",
        "plt.plot([i*0.05 for i in range(len(bal_reg_neg_iou))], bal_reg_neg_iou, label='bal_reg_neg_iou')\n",
        "plt.title('IOU for negative rationales')\n",
        "plt.xlabel('threshold for rationale')\n",
        "# plt.ylabel('sufficiency')\n",
        "plt.legend(('binary', 'regression', 'not trained', 'balanced_bin', 'balanced_reg'))\n",
        "plt.savefig(f'iou_regression.png')\n",
        "plt.show()"
      ],
      "metadata": {
        "colab": {
          "base_uri": "https://localhost:8080/",
          "height": 281
        },
        "id": "mUCxRtFJZs-i",
        "outputId": "d24fd0a2-a4d4-45cb-c10a-237f73998454"
      },
      "execution_count": null,
      "outputs": [
        {
          "output_type": "display_data",
          "data": {
            "text/plain": [
              "<Figure size 864x288 with 2 Axes>"
            ],
            "image/png": "[encoded data removed]"
          },
          "metadata": {
            "needs_background": "light"
          }
        }
      ]
    },
    {
      "cell_type": "code",
      "source": [
        "relevance_score = np.array([[0.1, 0.2, 0.3], [0.4, 0.5, 0.6], [0.7, 0.8, 1]])\n",
        "human_rationale = np.array([[0,0,1], [0,1,1], [0,1,0]])\n",
        "# print(set_rationale(relevance_score, 0.5))"
      ],
      "metadata": {
        "id": "i1yKjR4GCncr"
      },
      "execution_count": null,
      "outputs": []
    },
    {
      "cell_type": "code",
      "source": [
        "import matplotlib.pyplot as plt\n",
        "def AUPRC(human_rationale, relevance_score, interval): \n",
        "\n",
        "    assert human_rationale.shape == relevance_score.shape\n",
        "\n",
        "    recall, precision = [], []\n",
        "    thresh_range = [1/interval * i for i in range(interval)]\n",
        "    for threshold in thresh_range:\n",
        "        true_positive, false_negative, false_positive = 0, 0, 0\n",
        "        pred_rationale = set_rationale(relevance_score, threshold) \n",
        "\n",
        "\n",
        "        # print(f\"{threshold}: {pred_rationale}\")\n",
        "        for i in range(len(human_rationale)):\n",
        "            for j in range(len(human_rationale[i])):\n",
        "                if human_rationale[i][j] == 1 and pred_rationale[i][j] == 1:\n",
        "                    true_positive += 1\n",
        "                elif human_rationale[i][j] == 1 and pred_rationale[i][j] == 0:\n",
        "                    false_negative += 1\n",
        "                elif human_rationale[i][j] == 0 and pred_rationale[i][j] == 1:\n",
        "                    false_positive += 1\n",
        "                    \n",
        "        print(true_positive)\n",
        "        recall.append(true_positive / (true_positive + false_negative + 1))\n",
        "        precision.append(true_positive / (false_positive + true_positive + 1))\n",
        "\n",
        "\n",
        "    # print(recall)\n",
        "    # print(precision)\n",
        "    plt.plot(recall, precision)\n",
        "    plt.show()\n",
        "    return"
      ],
      "metadata": {
        "id": "GjGf2p1RRFI3"
      },
      "execution_count": null,
      "outputs": []
    },
    {
      "cell_type": "code",
      "source": [
        "# model_records = erase_trivial_words(model_records)\n",
        "model_pos_rationale = np.array(model_records[:,5])\n",
        "model_neg_rationale = np.array(model_records[:,4])\n",
        "# model_records = erase_trivial_words(model_records)\n",
        "# print(model_pos_rationale)\n",
        "\n",
        "AUPRC(negative_rationale, model_neg_rationale, interval=10)"
      ],
      "metadata": {
        "colab": {
          "base_uri": "https://localhost:8080/",
          "height": 444
        },
        "id": "rZalTA0KHPI-",
        "outputId": "3e743ce1-8057-495b-a51c-cb185ad4d6ec"
      },
      "execution_count": null,
      "outputs": [
        {
          "output_type": "stream",
          "name": "stdout",
          "text": [
            "0\n",
            "0\n",
            "0\n",
            "0\n",
            "0\n",
            "0\n",
            "0\n",
            "0\n",
            "0\n",
            "0\n"
          ]
        },
        {
          "output_type": "display_data",
          "data": {
            "text/plain": [
              "<Figure size 432x288 with 1 Axes>"
            ],
            "image/png": "[encoded data removed]"
          },
          "metadata": {
            "needs_background": "light"
          }
        }
      ]
    }
  ]
}